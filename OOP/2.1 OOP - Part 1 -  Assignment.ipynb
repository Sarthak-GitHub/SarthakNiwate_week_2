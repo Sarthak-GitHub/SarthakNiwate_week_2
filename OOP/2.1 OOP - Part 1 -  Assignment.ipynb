{
 "cells": [
  {
   "cell_type": "markdown",
   "metadata": {},
   "source": [
    "## Week 2: 2.1 OOP : Part 1\n",
    "**by Sarthak Niwate (Intern at Chistats)**"
   ]
  },
  {
   "cell_type": "markdown",
   "metadata": {},
   "source": [
    "#### 1,2,3. What is class, object and reference variable in the python "
   ]
  },
  {
   "cell_type": "markdown",
   "metadata": {},
   "source": [
    "#### Class\n",
    "A class is a bundle of attributes/variables by instance and methods to define the type of object. A class can be viewed as a template of the objects. Variables of a class are termed as attributes and functions in the classes are called as methods.\n",
    "\n",
    "#### Object\n",
    "An object is an instance of a class with a specific set of attributes. Thus, one can create as many objects as needed from the same class. \n",
    "\n",
    "#### Reference Variables\n",
    "Class variables are shared across all objects while instance variables are for data unique to each instance. Instance variable overrides the Class variables having same name which can show unusual behaviour in output.\n",
    "\n",
    "**Class Variables**: Declared inside the class definition (but outside any of the instance methods). They are not tied to any particular object of the class, hence shared across all the objects of the class. Modifying a class variable affects all objects instance at the same time.\n",
    "\n",
    "**Instance Variable**: Declared inside the constructor method of class (the __init__ method). They are tied to the particular object instance of the class, hence the contents of an instance variable are completely independent from one object instance to the other."
   ]
  },
  {
   "cell_type": "markdown",
   "metadata": {},
   "source": [
    "**All the below three questions answered together**\n",
    "#### 4. How to defin a class, define a student class with instance variables as StdName, RollNo. and StdGender. Create Constructor ( Ref. __init__(self) ) \n",
    "\n",
    "#### 5. Using Que 4, defin a method which takes self as a parameter and print the StdName, RollNo. and StdGender"
   ]
  },
  {
   "cell_type": "code",
   "execution_count": 33,
   "metadata": {},
   "outputs": [
    {
     "data": {
      "text/plain": [
       "'The name of the student is Sarthak and Roll No. is 45. The gender is Male.'"
      ]
     },
     "execution_count": 33,
     "metadata": {},
     "output_type": "execute_result"
    }
   ],
   "source": [
    "class student5:\n",
    "    def __init__(self):\n",
    "        self.StdName = 'Sarthak'\n",
    "        self.RollNo = 45\n",
    "        self.StdGender = 'Male'\n",
    "        \n",
    "    def display_data(self):\n",
    "        return f\"The name of the student is {self.StdName} and Roll No. is {self.RollNo}. The gender is {self.StdGender}.\"\n",
    "    \n",
    "    \n",
    "s1 = student5()\n",
    "s1.display_data()"
   ]
  },
  {
   "cell_type": "markdown",
   "metadata": {},
   "source": [
    "#### 6. Create object of the student class and call display method"
   ]
  },
  {
   "cell_type": "code",
   "execution_count": 34,
   "metadata": {},
   "outputs": [
    {
     "data": {
      "text/plain": [
       "'The name of the student is Sarthak and Roll No. is 45. The gender is Male.'"
      ]
     },
     "execution_count": 34,
     "metadata": {},
     "output_type": "execute_result"
    }
   ],
   "source": [
    "class student6:\n",
    "    def __init__(self, StdName, RollNo, StdGender):\n",
    "        self.StdName = StdName\n",
    "        self.RollNo = RollNo\n",
    "        self.StdGender = StdGender\n",
    "        \n",
    "    def display_data(self):\n",
    "        return f\"The name of the student is {self.StdName} and Roll No. is {self.RollNo}. The gender is {self.StdGender}.\"\n",
    "    \n",
    "    \n",
    "s1 = student6('Sarthak',45,'Male')\n",
    "s1.display_data()"
   ]
  },
  {
   "cell_type": "markdown",
   "metadata": {},
   "source": [
    "#### 7. What is self variable"
   ]
  },
  {
   "cell_type": "raw",
   "metadata": {},
   "source": [
    "The .__init__() method is indented four spaces in a class. The inner main body of the .__init__ method is two tab spaces. In python, this indentation helps us understand that the method belongs to the defined class in which it is being written.\n",
    "In a body of .__init__ method, there is parameter self all the time along with variables. The term ‘self’ in the attributes refers to the corresponding instances (objects)."
   ]
  },
  {
   "cell_type": "markdown",
   "metadata": {},
   "source": [
    "#### 8. What is difference between Parameterized and Non Parameterized Constructor\n",
    "\n",
    "We can use Paramtrized constructors to set custom values for instance variables. "
   ]
  },
  {
   "cell_type": "code",
   "execution_count": 35,
   "metadata": {},
   "outputs": [
    {
     "name": "stdout",
     "output_type": "stream",
     "text": [
      "Thank you for buying from Apple. Order successfully placed for Macbook Pro HUINX786KOLS\n"
     ]
    }
   ],
   "source": [
    "class parametrizedConst:\n",
    "    def __init__(self,company,model):\n",
    "        self.company=company\n",
    "        self.model=model\n",
    "    def order(self):\n",
    "        print(f\"Thank you for buying from {self.company}. Order successfully placed for {self.model}\")\n",
    "p = parametrizedConst('Apple','Macbook Pro HUINX786KOLS')\n",
    "p.order()"
   ]
  },
  {
   "cell_type": "markdown",
   "metadata": {},
   "source": [
    "We can use Non-Parametrized constructor to set values that we want."
   ]
  },
  {
   "cell_type": "code",
   "execution_count": 36,
   "metadata": {},
   "outputs": [
    {
     "name": "stdout",
     "output_type": "stream",
     "text": [
      "Thank you for buying from Apple. Order successfully placed for Macbook Pro HUINX786KOLS\n"
     ]
    }
   ],
   "source": [
    "class nonparametrizedConst:\n",
    "    def __init__(self):\n",
    "        self.company='Apple'\n",
    "        self.model='Macbook Pro HUINX786KOLS'\n",
    "    def order(self):\n",
    "        print(f\"Thank you for buying from {self.company}. Order successfully placed for {self.model}\")\n",
    "np = nonparametrizedConst()\n",
    "np.order()"
   ]
  },
  {
   "cell_type": "markdown",
   "metadata": {},
   "source": [
    "#### 9. Create Parameterized constructor using class fro Que 4 and initialize the instance variables and print in the display method."
   ]
  },
  {
   "cell_type": "code",
   "execution_count": 38,
   "metadata": {},
   "outputs": [
    {
     "data": {
      "text/plain": [
       "'The name of the student is Sarthak and Roll No. is 45. The gender is Male.'"
      ]
     },
     "execution_count": 38,
     "metadata": {},
     "output_type": "execute_result"
    }
   ],
   "source": [
    "class student9:\n",
    "    def __init__(self, StdName, RollNo, StdGender):\n",
    "        self.StdName = StdName\n",
    "        self.RollNo = RollNo\n",
    "        self.StdGender = StdGender\n",
    "        \n",
    "    def display_data(self):\n",
    "        return f\"The name of the student is {self.StdName} and Roll No. is {self.RollNo}. The gender is {self.StdGender}.\"\n",
    "    \n",
    "    \n",
    "s1 = student9('Sarthak',45,'Male')\n",
    "s1.display_data()"
   ]
  },
  {
   "cell_type": "markdown",
   "metadata": {},
   "source": [
    "#### 10. WAP to demonstrate that constructor will execute only once per object "
   ]
  },
  {
   "cell_type": "raw",
   "metadata": {},
   "source": [
    "About __new__ and __init__:\n",
    "\n",
    "__new__ is a constructor which typically returns an instance of cls, its first argument.\n",
    "By __new__ returning an instance of class, __new__ causes Python to call __init__.\n",
    "__init__ is an initializer. It modifies the instance (self) returned by __new__. It does not need to return self."
   ]
  },
  {
   "cell_type": "code",
   "execution_count": null,
   "metadata": {},
   "outputs": [],
   "source": [
    "def __new__(cls, *args, **kwargs):\n",
    "    obj = object.__new__(cls, *args, **kwargs)\n",
    "    obj.__init__(*args, **kwargs)\n",
    "    return obj\n"
   ]
  },
  {
   "cell_type": "raw",
   "metadata": {},
   "source": [
    "The __new__ method is called with the class as its first argument; its responsibility is to return a new instance of that class.\n",
    "\n",
    "Compare this to __init__:__init__ is called with an instance as its first argument, and it doesn't return anything; its responsibility is to initialize the instance.\n",
    "\n",
    "All this is done so that immutable types can preserve their immutability while allowing subclassing.\n",
    "\n",
    "The immutable types (int, long, float, complex, str, unicode, and tuple) have a dummy __init__, while the mutable types (dict, list, file, and also super, classmethod, staticmethod, and property) have a dummy __new__."
   ]
  },
  {
   "cell_type": "code",
   "execution_count": 41,
   "metadata": {},
   "outputs": [],
   "source": [
    "class MyClass(object):\n",
    "    def __init__(self, data):\n",
    "        self.data = data\n",
    "\n",
    "    def __getitem__(self, index):\n",
    "        return type(self)(self.data[index])\n",
    "\n",
    "\n",
    "x = MyClass(range(10))\n",
    "x2 = x[0:2]"
   ]
  },
  {
   "cell_type": "code",
   "execution_count": 42,
   "metadata": {},
   "outputs": [
    {
     "data": {
      "text/plain": [
       "<__main__.MyClass at 0x22009f50070>"
      ]
     },
     "execution_count": 42,
     "metadata": {},
     "output_type": "execute_result"
    }
   ],
   "source": [
    "x2"
   ]
  },
  {
   "cell_type": "markdown",
   "metadata": {},
   "source": [
    "#### 11. WAP to demonstrate where can we declare the instance variables\n",
    "\t1. inside constructer\n",
    "\t2. insite instance method \n",
    "\t3. ouside class ny using object reference variable\n",
    "##### Use of __dict__ and ways of declaring instance variables"
   ]
  },
  {
   "cell_type": "code",
   "execution_count": 45,
   "metadata": {},
   "outputs": [
    {
     "name": "stdout",
     "output_type": "stream",
     "text": [
      "{'company': 'Panasonic', 'model': 'PNSCO741U-XBUR'}\n",
      "{'company': 'Panasonic', 'model': 'PNSCO741U-XBUR', 'price': 31250}\n",
      "{'company': 'Panasonic', 'model': 'PNSCO741U-XBUR', 'price': 31250, 'orderid': 7896}\n"
     ]
    }
   ],
   "source": [
    "class Television:\n",
    "    def __init__(self):\n",
    "        self.company = 'Panasonic' # Declare instance variables in constructor\n",
    "        self.model = 'PNSCO741U-XBUR'\n",
    "\n",
    "    def amount(self):\n",
    "        self.price = 31250 # Declare instance variable in an instance method\n",
    "        \n",
    "t=Television()\n",
    "print(t.__dict__)\n",
    "t.amount()\n",
    "print(t.__dict__)\n",
    "t.orderid = 7896    # Declare instance variable from outside of the class using object reference\n",
    "print(t.__dict__)"
   ]
  },
  {
   "cell_type": "markdown",
   "metadata": {},
   "source": [
    "#### 12. Using variables declared in Que 4, \n",
    "\t1. Print using self\n",
    "\t2. delete using self \n",
    "\t3. delete using object reference\n",
    "\t4. Update the value of RollNo and print the object"
   ]
  },
  {
   "cell_type": "code",
   "execution_count": 50,
   "metadata": {},
   "outputs": [
    {
     "name": "stdout",
     "output_type": "stream",
     "text": [
      "The name of the student is Sarthak and Roll No. is 45. The gender is Male.\n",
      "{'StdName': 'Sarthak', 'StdGender': 'Male'}\n",
      "{'price': 31250}\n"
     ]
    }
   ],
   "source": [
    "class student12:\n",
    "    def __init__(self, StdName, RollNo, StdGender):\n",
    "        self.StdName = StdName\n",
    "        self.RollNo = RollNo\n",
    "        self.StdGender = StdGender\n",
    "        \n",
    "    def display_data(self):\n",
    "        return f\"The name of the student is {self.StdName} and Roll No. is {self.RollNo}. The gender is {self.StdGender}.\"\n",
    "    \n",
    "    def delVariableInstance(self):\n",
    "        del self.RollNo # Method for deleting Instance variable inside a class\n",
    "        \n",
    "s = student12('Sarthak',45,'Male')\n",
    "print(s.display_data())\n",
    "s.delVariableInstance()\n",
    "print(s.__dict__)\n",
    "del s.StdGender # Deleting Instance variable outside the class\n",
    "print(t.__dict__)"
   ]
  },
  {
   "cell_type": "markdown",
   "metadata": {},
   "source": [
    "#### 13. Write short note on static variables"
   ]
  },
  {
   "cell_type": "markdown",
   "metadata": {},
   "source": [
    "Static variables are those variables which remain same for all objects and don't change like instance variables. "
   ]
  },
  {
   "cell_type": "code",
   "execution_count": 68,
   "metadata": {},
   "outputs": [
    {
     "name": "stdout",
     "output_type": "stream",
     "text": [
      "The name of the student is Sarthak and Roll No. is 45.\n",
      "The name of the student is Sarthak and Roll No. is 45.\n"
     ]
    }
   ],
   "source": [
    "class student13:\n",
    "    \n",
    "    StdName = 'Sarthak'\n",
    "    RollNo = 45\n",
    "        \n",
    "    def __init__(self):\n",
    "        self.StdGender = 'Male'\n",
    "        \n",
    "    @classmethod    \n",
    "    def display_data(clone):\n",
    "        return f\"The name of the student is {student13.StdName} and Roll No. is {clone.RollNo}.\"\n",
    "\n",
    "s = student13()\n",
    "print(s.display_data())\n",
    "print(student13.display_data())"
   ]
  },
  {
   "cell_type": "markdown",
   "metadata": {},
   "source": [
    "In the above code snippet, we have created multiple objects of class Student and for all of them student name remains the same. Only one copy for the static variable will be created and will be shared with other objects. This also improves performance.\n",
    "Static variables can be accessed using Class name or Object reference.\n",
    "We can declare static variables:\n",
    "Inside a class but outside any method or constructor, Inside constructor using classname, Inside instance method using class name, Inside class method using class name or cls variable, Inside static method by using class name, From outside the class by using class name."
   ]
  },
  {
   "cell_type": "markdown",
   "metadata": {},
   "source": [
    "#### 14. WAP to declare the static variable as school name in above Student class \n",
    "\t1. Declare within class and outside the method body\n",
    "\t2. inside constructor using class name\n",
    "\t3. inside method using class name\n",
    "\t4. inside class method using class name or cls variable5.  insite static methos using class name "
   ]
  },
  {
   "cell_type": "markdown",
   "metadata": {},
   "source": [
    "#### 15. WAP to access the static variable\n",
    "\t1. inside constructor using self or classname\n",
    "\t2. inside instance methos using self or classname\n",
    "\t3. inside class method using cls variable or classname\n",
    "\t4. inside static method using classname \n",
    "\t5. from outside of the class using reference is classname"
   ]
  },
  {
   "cell_type": "code",
   "execution_count": 99,
   "metadata": {},
   "outputs": [
    {
     "name": "stdout",
     "output_type": "stream",
     "text": [
      "Exam Center loaction is Holish Due Wih\n",
      "Exam center id is:  X896\n",
      "Student's exam id is:  121212\n",
      "Exam Center loaction is Holish Due Wih\n",
      "None\n"
     ]
    }
   ],
   "source": [
    "class student14:\n",
    "    schoolName = 'Rose Mary School' # Declaring outside any method / constructor\n",
    "    def __init__(self,name):\n",
    "        self.name=name                  # Accessing inside instance method using self\n",
    "        student14.address = 'Shillong' # Declaring inside a constructor using class name\n",
    "    \n",
    "    def showDetails(self):\n",
    "        student14.rollno = 45 # Declaring inside an instance method using class name\n",
    "        \n",
    "    @classmethod\n",
    "    def examCenter(cls):\n",
    "        student14.center_name = 'Holish Due Wih' # Declaring inside a class method using classname\n",
    "        cls.center_id = 'X896'    # Declaring inside a class method using cls\n",
    "        print(f\"Exam Center loaction is {student14.center_name}\")  # Accessing inside a method using classname\n",
    "\n",
    "    @staticmethod\n",
    "    def studExamid():\n",
    "        student14.exam_id = 121212 # Declaring inside a static method using classname\n",
    "        \n",
    "s=student14('Pranay')\n",
    "s.showDetails()\n",
    "\n",
    "s.principal='Neha Biswas' # Declaring outside the class using object name\n",
    "\n",
    "student14.studExamid()  # Calling static method\n",
    "student14.examCenter()  # Calling class method\n",
    "\n",
    "\n",
    "print(\"Exam center id is: \", student14.center_id) # Accesing outside class using classname\n",
    "print(\"Student's exam id is: \", student14.exam_id) # Accesing outside class using classname\n",
    "\n",
    "print(student14.examCenter())"
   ]
  },
  {
   "cell_type": "markdown",
   "metadata": {},
   "source": [
    "#### 16. Modify the value of School name and observe the behaviour\n",
    "\t1. Modify using class name \n",
    "\t2. Modify using cls variable "
   ]
  },
  {
   "cell_type": "code",
   "execution_count": 111,
   "metadata": {},
   "outputs": [
    {
     "name": "stdout",
     "output_type": "stream",
     "text": [
      "School name is: Rose Mary School\n",
      "School name is: Jony Fen Holigreek\n",
      "None\n",
      "School name is: Keliyo Unda Funk\n",
      "School name is: Jony Fen Holigreek\n",
      "None\n"
     ]
    }
   ],
   "source": [
    "class student14:\n",
    "    schoolName = 'Rose Mary School' \n",
    "    def __init__(self,name):\n",
    "        self.name=name                  \n",
    "        student14.address = 'Shillong' \n",
    "    \n",
    "    def showDetails(self):\n",
    "        student14.rollno = 45 \n",
    "        \n",
    "    @classmethod\n",
    "    def examCenter(cls):\n",
    "        student14.center_name = 'Holish Due Wih' \n",
    "        cls.center_id = 'X896' \n",
    "        \n",
    "        print(f\"School name is: {cls.schoolName}\")\n",
    "        cls.schoolName = 'Jony Fen Holigreek'  # wrong way\n",
    "        print(f\"School name is: {cls.schoolName}\")\n",
    "        \n",
    "\n",
    "    @staticmethod\n",
    "    def studExamid():\n",
    "        student14.exam_id = 121212 \n",
    "        \n",
    "s = student14('Sarthak')\n",
    "print(s.examCenter())\n",
    "\n",
    "student14.schoolName = 'Keliyo Unda Funk'\n",
    "\n",
    "print(s.examCenter())\n",
    "\n"
   ]
  },
  {
   "cell_type": "markdown",
   "metadata": {},
   "source": [
    "#### 17. WAP to delete the value of School name and observe the behaviour\n",
    "\t1. using classname.variable name \n",
    "\t2. using cls"
   ]
  },
  {
   "cell_type": "code",
   "execution_count": 137,
   "metadata": {},
   "outputs": [
    {
     "name": "stdout",
     "output_type": "stream",
     "text": [
      "The name of the student is Sarthak and Roll No. is 45. The gender is Male.\n",
      "{'StdName': 'Sarthak', 'RollNo': 45, 'StdGender': 'Male'}\n",
      "Old: Rose Mary School\n"
     ]
    }
   ],
   "source": [
    "class student17:\n",
    "    schoolName = 'Rose Mary School'\n",
    "    \n",
    "    def __init__(self, StdName, RollNo, StdGender):\n",
    "        self.StdName = StdName\n",
    "        self.RollNo = RollNo\n",
    "        self.StdGender = StdGender\n",
    "        \n",
    "    def display_data(self):\n",
    "        return f\"The name of the student is {self.StdName} and Roll No. is {self.RollNo}. The gender is {self.StdGender}.\"\n",
    "    @classmethod\n",
    "    def delVariableInstance(cls):\n",
    "        return f\"Old: {cls.schoolName}\"\n",
    "        del cls.schoolName # Method for deleting Instance variable inside a class\n",
    "        print(f\"New {cls.schoolName}\")\n",
    "        \n",
    "s = student17('Sarthak',45,'Male')\n",
    "print(s.display_data())\n",
    "print(s.__dict__)\n",
    "print(s.delVariableInstance())"
   ]
  },
  {
   "cell_type": "markdown",
   "metadata": {},
   "source": [
    "#### 18. Using Instance method: WAP using below details\n",
    "\t1. Create a student class having name and marks as parameters\n",
    "\t2. Create display method to display name and marks of student\n",
    "\t3. CReate method grade which will take marks as parameters and displays the grade of the student. Ex. if marks > 60 then First grade if marke are greter than 50 then Second grade else Student us failed\n",
    "\t4. Use setter and getter to initialize the instance variables"
   ]
  },
  {
   "cell_type": "code",
   "execution_count": 160,
   "metadata": {},
   "outputs": [
    {
     "name": "stdout",
     "output_type": "stream",
     "text": [
      "Getter method called\n",
      "Second Grade\n",
      "Getter method called\n",
      "First Grade\n",
      "Getter method called\n",
      "failed\n"
     ]
    }
   ],
   "source": [
    "class student18:\n",
    "    def __init__(self, name, marks):\n",
    "        self.name = name\n",
    "        self.marks = marks\n",
    "    \n",
    "    @property\n",
    "    def get_info(self):\n",
    "        print('Getter method called')\n",
    "        if (self.marks > 60):\n",
    "            return \"First Grade\"\n",
    "        elif (self.marks > 50 and self.marks < 60):\n",
    "            return \"Second Grade\"\n",
    "        else:\n",
    "            return'failed'\n",
    "    \n",
    "    @get_info.setter\n",
    "    def get_info(self, a):\n",
    "        print(\"Setter method called\")\n",
    "        self.marks = a\n",
    "        \n",
    "            \n",
    "s1 = student18('Sarthak',56)\n",
    "print(s1.get_info)\n",
    "s2 = student18('Sarthak',82)\n",
    "print(s2.get_info)\n",
    "s3 = student18('Sarthak',32)\n",
    "print(s3.get_info)"
   ]
  },
  {
   "cell_type": "markdown",
   "metadata": {},
   "source": [
    "#### 19. Using class method: WAP to get number of objectes created for a class "
   ]
  },
  {
   "cell_type": "code",
   "execution_count": 161,
   "metadata": {},
   "outputs": [
    {
     "name": "stdout",
     "output_type": "stream",
     "text": [
      "Getter method called\n",
      "Second Grade\n",
      "Getter method called\n",
      "First Grade\n",
      "Getter method called\n",
      "failed\n",
      "3\n"
     ]
    }
   ],
   "source": [
    "class student18:\n",
    "    counter = 0\n",
    "    def __init__(self, name, marks):\n",
    "        self.name = name\n",
    "        self.marks = marks\n",
    "        student18.counter += 1\n",
    "    \n",
    "    @property\n",
    "    def get_info(self):\n",
    "        print('Getter method called')\n",
    "        if (self.marks > 60):\n",
    "            return \"First Grade\"\n",
    "        elif (self.marks > 50 and self.marks < 60):\n",
    "            return \"Second Grade\"\n",
    "        else:\n",
    "            return'failed'\n",
    "    \n",
    "    @get_info.setter\n",
    "    def get_info(self, a):\n",
    "        print(\"Setter method called\")\n",
    "        self.marks = a\n",
    "        \n",
    "            \n",
    "s1 = student18('Sarthak',56)\n",
    "print(s1.get_info)\n",
    "s2 = student18('Sarthak',82)\n",
    "print(s2.get_info)\n",
    "s3 = student18('Sarthak',32)\n",
    "print(s3.get_info)\n",
    "print(student18.counter)"
   ]
  },
  {
   "cell_type": "markdown",
   "metadata": {},
   "source": [
    "#### 20. Using class method: WAP to print the given number if odd or even"
   ]
  },
  {
   "cell_type": "code",
   "execution_count": 187,
   "metadata": {},
   "outputs": [
    {
     "name": "stdout",
     "output_type": "stream",
     "text": [
      "Even\n",
      "Odd\n",
      "Odd\n",
      "Even\n"
     ]
    }
   ],
   "source": [
    "class oddEven(object):\n",
    "\n",
    "    @classmethod\n",
    "    def get_info(cls, number):\n",
    "        if (number%2 == 0):\n",
    "            return \"Even\"\n",
    "        else:\n",
    "            return \"Odd\"\n",
    "\n",
    "print(oddEven.get_info(2))\n",
    "print(oddEven.get_info(3))\n",
    "print(oddEven.get_info(5))\n",
    "print(oddEven.get_info(8))"
   ]
  },
  {
   "cell_type": "markdown",
   "metadata": {},
   "source": [
    "#### 21. Using Static method: WAP to print addition, substraction and product of two numbers"
   ]
  },
  {
   "cell_type": "code",
   "execution_count": 189,
   "metadata": {},
   "outputs": [
    {
     "data": {
      "text/plain": [
       "'The addition: 7, the subtraction: -1, the multiplication: 12.'"
      ]
     },
     "execution_count": 189,
     "metadata": {},
     "output_type": "execute_result"
    }
   ],
   "source": [
    "class arithmetic(object):\n",
    "\n",
    "    @staticmethod\n",
    "    def operations(num1,num2):\n",
    "        add = num1 + num2\n",
    "        sub = num1 - num2\n",
    "        mul = num1 * num2\n",
    "        return f\"The addition: {add}, the subtraction: {sub}, the multiplication: {mul}.\"\n",
    "\n",
    "arithmetic.operations(3,4)       "
   ]
  },
  {
   "cell_type": "markdown",
   "metadata": {},
   "source": [
    "#### 22. Pass members of one class to other class: Use below details \n",
    "\t1. Create class \"Student\" with Student name, roll number and marks. Define display method.\n",
    "\t2. Create class \"StudentModifier\" and define modify method which will update the student marks(marks + 10) and prints the updted marks using display method. "
   ]
  },
  {
   "cell_type": "code",
   "execution_count": 22,
   "metadata": {},
   "outputs": [],
   "source": [
    "class studentModifier:\n",
    "    def __init__(self,name,roll_no,marks):\n",
    "        self.name=name\n",
    "        self.roll_no=roll_no\n",
    "        self.marks=marks\n",
    "    def display_method(self):\n",
    "        return f\"The name of the student is {self.name} and Roll No. is {self.roll_no}. The marks are {self.marks}.\"\n",
    "    def modify(self):\n",
    "        marks1 = self.marks*(self.marks+10)\n",
    "        return f\"Updated marks are {marks1}\"\n",
    "    \n",
    "class student22(studentModifier):\n",
    "    def display(self):\n",
    "        print(\"This is on lass\")"
   ]
  },
  {
   "cell_type": "code",
   "execution_count": 23,
   "metadata": {},
   "outputs": [
    {
     "name": "stdout",
     "output_type": "stream",
     "text": [
      "The name of the student is Name and Roll No. is 45. The marks are 100.\n",
      "Updated marks are 11000\n"
     ]
    }
   ],
   "source": [
    "s = student22('Name',45,100)\n",
    "print(s.display_method())\n",
    "print(s.modify())"
   ]
  },
  {
   "cell_type": "markdown",
   "metadata": {},
   "source": [
    "23. Using Inner class: WAP using below details \n",
    "\t1. Create class \"Student\" with Student name and roll number. Define display method.\n",
    "\t2. Inside Student class create inner class as Address which will be having localoty, district, state and pin as instance variables \n",
    "\t3. Create instance of student class and print the student details \n",
    "\t4. Inside Student class create another inner class as Marks which will be having marks of Physics, Chem and Maths as instance variables \n",
    "\t5. Create instance of student class and print the student details "
   ]
  },
  {
   "cell_type": "code",
   "execution_count": 44,
   "metadata": {},
   "outputs": [
    {
     "name": "stdout",
     "output_type": "stream",
     "text": [
      "The name of the student is Sarthak and Roll No. is 45.\n",
      "The locality is Anmol Pride district is Mumbai Subarban, state is MH, pin is 400104\n",
      "The marks in physics are 80, chemistry are 85, maths are 78\n"
     ]
    }
   ],
   "source": [
    "class student23:\n",
    "    def __init__(self):\n",
    "        self.name='Sarthak'\n",
    "        self.roll_no=45\n",
    "        self.add = self.Address()\n",
    "        self.marks=self.Marks()\n",
    "        \n",
    "    def display_method(self):\n",
    "        return f\"The name of the student is {self.name} and Roll No. is {self.roll_no}.\"\n",
    "    \n",
    "    class Address:\n",
    "        def __init__(self):\n",
    "            self.locality='Anmol Pride'\n",
    "            self.district='Mumbai Subarban'\n",
    "            self.state='MH'\n",
    "            self.pin=400104\n",
    "            \n",
    "        def display_method(self):\n",
    "            return f\"The locality is {self.locality} district is {self.district}, state is {self.state}, pin is {self.pin}\"\n",
    "\n",
    "    class Marks:\n",
    "        def __init__(self):\n",
    "            self.Physics=80\n",
    "            self.Chem=85\n",
    "            self.Maths=78\n",
    "            \n",
    "        def display_method(self):\n",
    "            return f\"The marks in physics are {self.Physics}, chemistry are {self.Chem}, maths are {self.Maths}\"\n",
    "            \n",
    "            \n",
    "\n",
    "s = student23()\n",
    "print(s.display_method())\n",
    "\n",
    "s1 = s.add\n",
    "print(s1.display_method())\n",
    "\n",
    "s2 = s.marks\n",
    "print(s2.display_method())"
   ]
  },
  {
   "cell_type": "markdown",
   "metadata": {},
   "source": [
    "24. Garbage Collection: WAP to enable, disable GC and check if GC is enabled or not "
   ]
  },
  {
   "cell_type": "code",
   "execution_count": 46,
   "metadata": {},
   "outputs": [
    {
     "name": "stdout",
     "output_type": "stream",
     "text": [
      "Automatic garbage collection is on ?\n",
      "False\n",
      "Automatic garbage collection is on ?\n",
      "True\n"
     ]
    }
   ],
   "source": [
    "import gc\n",
    "obj = 2\n",
    "x = 1\n",
    "garbage = gc.collect()\n",
    "\n",
    "gc.disable()    # Disable the collector\n",
    "print(\"Automatic garbage collection is on ?\",gc.isenabled())   # Check status\n",
    "\n",
    "gc.enable()     # Enabled again\n",
    "gc.collect()\n",
    "print(\"Automatic garbage collection is on ?\",gc.isenabled())   # Check status"
   ]
  },
  {
   "cell_type": "markdown",
   "metadata": {},
   "source": [
    "25. Write a short not on Garbage Collection"
   ]
  },
  {
   "cell_type": "markdown",
   "metadata": {},
   "source": [
    "Garbage Collection System (GCS):\n",
    "Generally, when a program is not being used the interpreter of python frees the memory. The reason behind this capability of Python is because the developer of Python implemented a special system at the backend which is known as Garbage Collector. This system follows a technique knows as ‘reference counting’ in which objects are deallocated or ‘freed’ when there is no longer use or reference to it in a program."
   ]
  },
  {
   "cell_type": "markdown",
   "metadata": {},
   "source": [
    "26. WAP to demonstrate use of __del__ i.e. destructor method"
   ]
  },
  {
   "cell_type": "raw",
   "metadata": {},
   "source": [
    "__del__ is a destructor method which is called as soon as all references of the object are deleted i.e when an object is garbage  The __del__ method is a special method of a class. It is also called the destructor method and it is called (invoked) when the instance (object) of the class is about to get destroyed."
   ]
  },
  {
   "cell_type": "code",
   "execution_count": 55,
   "metadata": {},
   "outputs": [
    {
     "name": "stdout",
     "output_type": "stream",
     "text": [
      "Kunal has been created!\n",
      "Ankit has been created!\n",
      "Deleting K\n",
      "Deleting A\n",
      "Thing has been destroyed\n",
      "Thing has been destroyed\n"
     ]
    }
   ],
   "source": [
    "class Robot():\n",
    "    \n",
    "    def __init__(self, name):\n",
    "        print(name + \" has been created!\")\n",
    "        \n",
    "    def __del__(self):\n",
    "        print (\"Thing has been destroyed\")\n",
    "        \n",
    "K = Robot(\"Kunal\")\n",
    "A = Robot(\"Ankit\")\n",
    "New = K\n",
    "print(\"Deleting K\")\n",
    "del K\n",
    "print(\"Deleting A\")\n",
    "del New\n",
    "del A"
   ]
  },
  {
   "cell_type": "markdown",
   "metadata": {},
   "source": [
    "27. WAP to check number of references a Student object is having. Use Que 23."
   ]
  },
  {
   "cell_type": "code",
   "execution_count": 52,
   "metadata": {},
   "outputs": [
    {
     "name": "stdout",
     "output_type": "stream",
     "text": [
      "The name of the student is Sarthak and Roll No. is 45.\n",
      "The locality is Anmol Pride district is Mumbai Subarban, state is MH, pin is 400104\n",
      "The marks in physics are 80, chemistry are 85, maths are 78\n",
      "The no. of reference of object s is 2\n"
     ]
    }
   ],
   "source": [
    "class student23:\n",
    "    def __init__(self):\n",
    "        self.name='Sarthak'\n",
    "        self.roll_no=45\n",
    "        self.add = self.Address()\n",
    "        self.marks=self.Marks()\n",
    "        \n",
    "    def display_method(self):\n",
    "        return f\"The name of the student is {self.name} and Roll No. is {self.roll_no}.\"\n",
    "    \n",
    "    class Address:\n",
    "        def __init__(self):\n",
    "            self.locality='Anmol Pride'\n",
    "            self.district='Mumbai Subarban'\n",
    "            self.state='MH'\n",
    "            self.pin=400104\n",
    "            \n",
    "        def display_method(self):\n",
    "            return f\"The locality is {self.locality} district is {self.district}, state is {self.state}, pin is {self.pin}\"\n",
    "\n",
    "    class Marks:\n",
    "        def __init__(self):\n",
    "            self.Physics=80\n",
    "            self.Chem=85\n",
    "            self.Maths=78\n",
    "            \n",
    "        def display_method(self):\n",
    "            return f\"The marks in physics are {self.Physics}, chemistry are {self.Chem}, maths are {self.Maths}\"\n",
    "            \n",
    "\n",
    "s = student23()\n",
    "print(s.display_method())\n",
    "\n",
    "s1 = s.add\n",
    "print(s1.display_method())\n",
    "\n",
    "s2 = s.marks\n",
    "print(s2.display_method())\n",
    "\n",
    "i = 0\n",
    "for r in gc.get_referents(s):\n",
    "    i += 1\n",
    "print(\"The no. of reference of object s is\", i)"
   ]
  },
  {
   "cell_type": "markdown",
   "metadata": {},
   "source": [
    "## Thank You"
   ]
  }
 ],
 "metadata": {
  "kernelspec": {
   "display_name": "Python 3",
   "language": "python",
   "name": "python3"
  },
  "language_info": {
   "codemirror_mode": {
    "name": "ipython",
    "version": 3
   },
   "file_extension": ".py",
   "mimetype": "text/x-python",
   "name": "python",
   "nbconvert_exporter": "python",
   "pygments_lexer": "ipython3",
   "version": "3.8.3"
  }
 },
 "nbformat": 4,
 "nbformat_minor": 4
}
