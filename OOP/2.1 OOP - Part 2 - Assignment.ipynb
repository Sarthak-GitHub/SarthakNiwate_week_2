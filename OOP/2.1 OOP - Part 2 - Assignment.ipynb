{
 "cells": [
  {
   "cell_type": "markdown",
   "metadata": {},
   "source": [
    "## Week 2: 2.1 OOP : Part 2\n",
    "**by Sarthak Niwate (Intern at Chistats)**"
   ]
  },
  {
   "cell_type": "markdown",
   "metadata": {},
   "source": [
    "Reference Material:\n",
    "https://www.geeksforgeeks.org/inheritance-in-python/\n",
    "\n",
    "https://realpython.com/inheritance-composition-python/\n",
    "\n",
    "https://www.edureka.co/blog/inheritance-in-python/\n",
    "\n",
    "https://www.programiz.com/python-programming/inheritance\n",
    "\n",
    "https://www.datacamp.com/community/tutorials/super-multiple-inheritance-diamond-problem"
   ]
  },
  {
   "cell_type": "markdown",
   "metadata": {},
   "source": [
    "1. Write note on inheretance\n",
    "\n",
    "The inheritance is a very useful and powerful concept of object-oriented programming. The Parent class is the class which provides features to another class. The parent class is also known as Base class or Superclass.\n",
    "\n",
    "The Child class is the class which receives features from another class. The child class is also known as the Derived Class or Subclass.In the inheritance, the child class acquires the features from its parent class. But the parent class never acquires the features from its child class.\n",
    "\n",
    "\n",
    "<img src=\"https://miro.medium.com/max/700/1*Yu4tT4bfw8un-GP7N4bAtg.jpeg\">"
   ]
  },
  {
   "cell_type": "code",
   "execution_count": 4,
   "metadata": {},
   "outputs": [
    {
     "name": "stdout",
     "output_type": "stream",
     "text": [
      "Joka False\n",
      "Koya True\n"
     ]
    }
   ],
   "source": [
    "class Data(object):\n",
    "    def __init__(self, name): \n",
    "        self.name = name\n",
    "   \n",
    "    def printName(self):\n",
    "        return self.name\n",
    "   \n",
    "    def isEmployee(self):\n",
    "        return False\n",
    "    \n",
    "class Validaion(Data):\n",
    "   \n",
    "    def isEmployee(self):\n",
    "        return True\n",
    "\n",
    "h = Data(\"Joka\")  # An Object of Person\n",
    "print(h.printName(), h.isEmployee())\n",
    "   \n",
    "h = Validaion(\"Koya\") # An Object of Employee\n",
    "print(h.printName(), h.isEmployee())"
   ]
  },
  {
   "cell_type": "markdown",
   "metadata": {},
   "source": [
    "2. Write note on composition\n",
    "\n",
    "Composition is another Object Oriented programming approach. We use it when we want to use some aspect of another class without all of the features of that other class. It reduces the complexity of code and makes it much easier to understand.\n",
    "\n",
    "In Python you also avoid the memory problems that might arise when you put many objects inside another; Python handles everything through its reference, i.e. through a pointer to the memory position of the thing, so the size of an attribute is constant and very limited."
   ]
  },
  {
   "cell_type": "markdown",
   "metadata": {},
   "source": [
    "3. Write difference between inheretance and composition\n",
    "\n",
    "Composition provides a superior way to manage delegation since it can selectively delegate the access, even mask some attributes or methods, while inheritance cannot. \n",
    "\n",
    "Consider following example:"
   ]
  },
  {
   "cell_type": "code",
   "execution_count": 6,
   "metadata": {},
   "outputs": [],
   "source": [
    "#  We can see here is a duplication of code.\n",
    "class Dog:\n",
    "    def live_on_land(self):\n",
    "        pass\n",
    "\n",
    "    def no_legs(self):\n",
    "        pass\n",
    "\n",
    "\n",
    "class Cat:\n",
    "    def live_on_land(self):\n",
    "        pass\n",
    "\n",
    "    def no_legs(self):\n",
    "        pass"
   ]
  },
  {
   "cell_type": "code",
   "execution_count": null,
   "metadata": {},
   "outputs": [],
   "source": [
    "#  So we use inhertence to avoid the duplication of code \n",
    "\n",
    "class Animals:\n",
    "    def live_on_land(self):\n",
    "        pass\n",
    "\n",
    "    def no_legs(self):\n",
    "        pass\n",
    "\n",
    "\n",
    "class Dog(Animals):\n",
    "    pass\n",
    "\n",
    "\n",
    "class Cat(Animals):\n",
    "    pass"
   ]
  },
  {
   "cell_type": "code",
   "execution_count": 7,
   "metadata": {},
   "outputs": [],
   "source": [
    "# Drawback of inhertence\n",
    "\n",
    "class Animals:\n",
    "    def live_on_land(self):\n",
    "        pass\n",
    "\n",
    "    def no_legs(self):\n",
    "        pass\n",
    "\n",
    "class Dog(Animals):\n",
    "    pass\n",
    "\n",
    "\n",
    "class Cat(Animals):\n",
    "    pass\n",
    "\n",
    "\n",
    "class Fish(Animals):\n",
    "    \"\"\"Fish lives in water, and doesn't have legs.\"\"\"\n",
    "\n",
    "    def live_on_land(self):\n",
    "        raise NotImplementedError\n",
    "\n",
    "    def no_legs(self):\n",
    "        raise NotImplementedError"
   ]
  },
  {
   "cell_type": "code",
   "execution_count": 11,
   "metadata": {},
   "outputs": [],
   "source": [
    "# Use of Composition\n",
    "\n",
    "class Animals:\n",
    "    pass\n",
    "\n",
    "class live_on_land:\n",
    "    def habitat(self):\n",
    "        pass\n",
    "\n",
    "    def no_legs(self):\n",
    "        pass\n",
    "\n",
    "class live_in_water:\n",
    "    def habitat(self):\n",
    "        pass\n",
    "\n",
    "    def life_exp(self):\n",
    "        pass\n",
    "\n",
    "\n",
    "class Dog(Animals):\n",
    "    pass\n",
    "#     live_on_land: yes\n",
    "#     no_legs: have_legs\n",
    "\n",
    "class Cat(Animals):\n",
    "    pass\n",
    "#     live_on_land: yes\n",
    "#     no_legs: have_legs\n",
    "\n",
    "class Fish(Animals):\n",
    "    pass\n",
    "#     live_on_land: no\n",
    "#     live_in_water: yes\n",
    "#     no_legs: have_no_legs"
   ]
  },
  {
   "cell_type": "markdown",
   "metadata": {},
   "source": [
    "4. Using composition: Use below details and write a program to print the Laptop details along with its processor specification\n",
    "\t1. Create two classes Laptop and Processor. \n",
    "\t2. Create \"display\" method in the Laptop class"
   ]
  },
  {
   "cell_type": "code",
   "execution_count": 28,
   "metadata": {},
   "outputs": [
    {
     "name": "stdout",
     "output_type": "stream",
     "text": [
      "The Yokolun Laptop is launched in 2017. The laptop have processor of Intel with i5 and 9th Gen\n"
     ]
    }
   ],
   "source": [
    "class Processor:\n",
    "    def __init__(self):\n",
    "        self.company = 'Intel'\n",
    "        self.proc = 'i5'\n",
    "        self.gen = '9th Gen'\n",
    "        \n",
    "    def display(self):\n",
    "        return f\"The laptop have processor of {self.company} with {self.proc} and {self.gen}\"      \n",
    "    \n",
    "class Laptop:\n",
    "    def __init__(self):\n",
    "        self.name='Yokolun'\n",
    "        self.launch = 2017\n",
    "        self.ob1 = Processor()\n",
    "    \n",
    "    def display_method(self):\n",
    "        return f\"The {self.name} Laptop is launched in {self.launch}. {self.ob1.display()}\"\n",
    "    \n",
    "l = Laptop()\n",
    "print(l.display_method())"
   ]
  },
  {
   "cell_type": "markdown",
   "metadata": {},
   "source": [
    "5. Using composition: Use below details and write a program to print the User details along with its Car details\n",
    "\t1. Create two classes User and Car. \n",
    "\t2. Create \"display\" method in both classes."
   ]
  },
  {
   "cell_type": "code",
   "execution_count": 31,
   "metadata": {},
   "outputs": [
    {
     "name": "stdout",
     "output_type": "stream",
     "text": [
      "The customer Shashank having id V-7xit4 purchased a car. The car of Toyota model Vitara x4 vxi-5 and Petrol car.\n"
     ]
    }
   ],
   "source": [
    "class Car:\n",
    "    def __init__(self):\n",
    "        self.company = 'Toyota'\n",
    "        self.mod = 'Vitara x4 vxi-5'\n",
    "        self.type = 'Petrol'\n",
    "        \n",
    "    def display(self):\n",
    "        return f\"The car of {self.company} model {self.mod} and {self.type} car.\"      \n",
    "    \n",
    "class User:\n",
    "    def __init__(self,name,us_id,purchase_month):\n",
    "        self.name=name\n",
    "        self.us_id = us_id\n",
    "        self.purchase_month = purchase_month\n",
    "        self.ob1 = Car()\n",
    "    \n",
    "    def display_method(self):\n",
    "        return f\"The customer {self.name} having id {self.us_id} purchased a car. {self.ob1.display()}\"\n",
    "    \n",
    "l = User('Shashank','V-7xit4','July')\n",
    "print(l.display_method())"
   ]
  },
  {
   "cell_type": "markdown",
   "metadata": {},
   "source": [
    "6. Using composition: \n",
    "\t1. Create class c1 with variable v1=2 and method m1. Method m1 prints the method name and class name. Inside the consuructer initialize the self with new variable v2=4\n",
    "\t2. Create class c2 with variable v3=6 and method m2. Method m1 prints the method name and class name. Inside the consuructer initialize the self with new variable v4=8\n",
    "\t3. Define method m3 in the class c2 , create the instance of class c2 and print the v1 and v2. Call m2 method using c1. Print v3 and v4 using self and c2. Call m2 using self."
   ]
  },
  {
   "cell_type": "code",
   "execution_count": 64,
   "metadata": {},
   "outputs": [
    {
     "name": "stdout",
     "output_type": "stream",
     "text": [
      "This is class c1 with method m1 with variables 2, 4\n",
      "This is class c2 with method m2 with variables 6, 8\n"
     ]
    }
   ],
   "source": [
    "class c1:\n",
    "    v1 = 2\n",
    "    def __init__(self):\n",
    "        self.v2=4\n",
    "        \n",
    "    def m1(self):\n",
    "        return f\"This is class c1 with method m1 with variables {self.v1}, {self.v2}\"\n",
    "\n",
    "class c2:\n",
    "    v3 = 6\n",
    "    def __init__(self):\n",
    "        self.v4=8\n",
    "        self.ob1 = c1()\n",
    "        \n",
    "    def m2(self):\n",
    "        return f\"This is class c2 with method m2 with variables {self.v3}, {self.v4}\"\n",
    "         \n",
    "    def m3(self):\n",
    "        return f\"{self.ob1.m1()}\"\n",
    "        \n",
    "        \n",
    "x = c2()\n",
    "print(x.m3())\n",
    "print(x.m2())      "
   ]
  },
  {
   "cell_type": "markdown",
   "metadata": {},
   "source": [
    "7. Uning Inheretance\t\n",
    "\t1. Create parent class with variable as name \n",
    "\t2. Initialize the instance with new variable v2=20 inside the constructer\n",
    "\t3. Create method m1 with self as parameter and print the method name \n",
    "\t4. Create classmethod m2 and print the method name \n",
    "\t5. Create staticmethod m3 and print the method name \n",
    "\t6. Create chile class and inherit it wil parent \n",
    "\t7. Create instance of the child class and call methods defined in parent class\n",
    "\t8. print variables declared in the parent class using instance of child "
   ]
  },
  {
   "cell_type": "code",
   "execution_count": 77,
   "metadata": {},
   "outputs": [
    {
     "name": "stdout",
     "output_type": "stream",
     "text": [
      "This method is m1\n",
      "This method is m2\n",
      "This method is m3\n",
      "20 & class1\n"
     ]
    }
   ],
   "source": [
    "class Parent:\n",
    "    \n",
    "    name = 'class1'\n",
    "    \n",
    "    def __init__(self):\n",
    "        self.v2=20\n",
    "        \n",
    "    def m1(self):\n",
    "        return \"This method is m1\"\n",
    "        \n",
    "    @classmethod\n",
    "    def m2(cls):\n",
    "        return \"This method is m2\"\n",
    "        \n",
    "    @staticmethod\n",
    "    def m3():\n",
    "        return \"This method is m3\"\n",
    "    \n",
    "    def display_method(self):\n",
    "        return f\"{self.v2} & {self.name}\"\n",
    "    \n",
    "\n",
    "class child(Parent):\n",
    "    pass\n",
    "    \n",
    "\n",
    "x=child()\n",
    "print(x.m1())\n",
    "print(x.m2())\n",
    "print(x.m3())\n",
    "print(x.display_method())"
   ]
  },
  {
   "cell_type": "markdown",
   "metadata": {},
   "source": [
    "8. Write the output of below skeleton\n",
    "\tclass P\n",
    "\t\ta = 10\n",
    "\t\tinit\n",
    "\t\t\tself.b=20\n",
    "\tclass C(P)\n",
    "\t\tc = 30\n",
    "\t\tinit\n",
    "\t\t\tself.d=40\n",
    "\t\n",
    "\tc1=C()\n",
    "\tprintln(c1.a,c1.b,c1.c,c1.d)\n",
    "\tUse issubclass to check if C class is subclass of P andprint the outout."
   ]
  },
  {
   "cell_type": "code",
   "execution_count": 95,
   "metadata": {},
   "outputs": [
    {
     "name": "stdout",
     "output_type": "stream",
     "text": [
      "10 30\n",
      "True\n"
     ]
    }
   ],
   "source": [
    "class P:\n",
    "    a = 10\n",
    "    def __init__(self):\n",
    "        self.b=20\n",
    "        \n",
    "class C(P):\n",
    "    c = 30\n",
    "    def __init__(self):\n",
    "        self.d=40       \n",
    "\n",
    "c1=C()\n",
    "print(c1.a,c1.c)\n",
    "\n",
    "print(issubclass(C, P))"
   ]
  },
  {
   "cell_type": "markdown",
   "metadata": {},
   "source": [
    "## Thank You"
   ]
  }
 ],
 "metadata": {
  "kernelspec": {
   "display_name": "Python 3",
   "language": "python",
   "name": "python3"
  },
  "language_info": {
   "codemirror_mode": {
    "name": "ipython",
    "version": 3
   },
   "file_extension": ".py",
   "mimetype": "text/x-python",
   "name": "python",
   "nbconvert_exporter": "python",
   "pygments_lexer": "ipython3",
   "version": "3.8.3"
  }
 },
 "nbformat": 4,
 "nbformat_minor": 4
}
